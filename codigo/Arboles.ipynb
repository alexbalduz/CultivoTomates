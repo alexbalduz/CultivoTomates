{
 "cells": [
  {
   "cell_type": "code",
   "execution_count": 1,
   "id": "79c6e897-2be6-4bf4-a68c-255a6ecdc820",
   "metadata": {},
   "outputs": [],
   "source": [
    "import pandas as pd\n",
    "from sklearn.tree import DecisionTreeRegressor\n",
    "from sklearn.model_selection import train_test_split\n",
    "from sklearn.metrics import mean_squared_error\n",
    "import matplotlib.pyplot as plt"
   ]
  },
  {
   "cell_type": "code",
   "execution_count": 2,
   "id": "a2154cd0-9534-4e2a-8d4a-ef5c316e0c25",
   "metadata": {},
   "outputs": [
    {
     "data": {
      "text/html": [
       "<div>\n",
       "<style scoped>\n",
       "    .dataframe tbody tr th:only-of-type {\n",
       "        vertical-align: middle;\n",
       "    }\n",
       "\n",
       "    .dataframe tbody tr th {\n",
       "        vertical-align: top;\n",
       "    }\n",
       "\n",
       "    .dataframe thead th {\n",
       "        text-align: right;\n",
       "    }\n",
       "</style>\n",
       "<table border=\"1\" class=\"dataframe\">\n",
       "  <thead>\n",
       "    <tr style=\"text-align: right;\">\n",
       "      <th></th>\n",
       "      <th>ubicacion</th>\n",
       "      <th>tamanio</th>\n",
       "      <th>rdto</th>\n",
       "      <th>uso_fertilizantes</th>\n",
       "      <th>tipo_cultivo_Erecta.</th>\n",
       "      <th>tipo_cultivo_Rastrera.</th>\n",
       "      <th>tipo_cultivo_Semierecta.</th>\n",
       "    </tr>\n",
       "  </thead>\n",
       "  <tbody>\n",
       "    <tr>\n",
       "      <th>0</th>\n",
       "      <td>1572</td>\n",
       "      <td>33997</td>\n",
       "      <td>0.8679</td>\n",
       "      <td>False</td>\n",
       "      <td>0</td>\n",
       "      <td>0</td>\n",
       "      <td>1</td>\n",
       "    </tr>\n",
       "    <tr>\n",
       "      <th>1</th>\n",
       "      <td>1059</td>\n",
       "      <td>80481</td>\n",
       "      <td>0.6079</td>\n",
       "      <td>False</td>\n",
       "      <td>0</td>\n",
       "      <td>0</td>\n",
       "      <td>1</td>\n",
       "    </tr>\n",
       "    <tr>\n",
       "      <th>2</th>\n",
       "      <td>1242</td>\n",
       "      <td>95781</td>\n",
       "      <td>0.9220</td>\n",
       "      <td>True</td>\n",
       "      <td>0</td>\n",
       "      <td>1</td>\n",
       "      <td>0</td>\n",
       "    </tr>\n",
       "    <tr>\n",
       "      <th>3</th>\n",
       "      <td>1286</td>\n",
       "      <td>98904</td>\n",
       "      <td>0.1078</td>\n",
       "      <td>False</td>\n",
       "      <td>1</td>\n",
       "      <td>0</td>\n",
       "      <td>0</td>\n",
       "    </tr>\n",
       "    <tr>\n",
       "      <th>4</th>\n",
       "      <td>1109</td>\n",
       "      <td>69298</td>\n",
       "      <td>0.0916</td>\n",
       "      <td>False</td>\n",
       "      <td>0</td>\n",
       "      <td>0</td>\n",
       "      <td>1</td>\n",
       "    </tr>\n",
       "    <tr>\n",
       "      <th>...</th>\n",
       "      <td>...</td>\n",
       "      <td>...</td>\n",
       "      <td>...</td>\n",
       "      <td>...</td>\n",
       "      <td>...</td>\n",
       "      <td>...</td>\n",
       "      <td>...</td>\n",
       "    </tr>\n",
       "    <tr>\n",
       "      <th>9995</th>\n",
       "      <td>1346</td>\n",
       "      <td>63349</td>\n",
       "      <td>0.0988</td>\n",
       "      <td>False</td>\n",
       "      <td>1</td>\n",
       "      <td>0</td>\n",
       "      <td>0</td>\n",
       "    </tr>\n",
       "    <tr>\n",
       "      <th>9996</th>\n",
       "      <td>1242</td>\n",
       "      <td>67465</td>\n",
       "      <td>0.3169</td>\n",
       "      <td>False</td>\n",
       "      <td>0</td>\n",
       "      <td>0</td>\n",
       "      <td>1</td>\n",
       "    </tr>\n",
       "    <tr>\n",
       "      <th>9997</th>\n",
       "      <td>1693</td>\n",
       "      <td>36885</td>\n",
       "      <td>0.0580</td>\n",
       "      <td>True</td>\n",
       "      <td>0</td>\n",
       "      <td>1</td>\n",
       "      <td>0</td>\n",
       "    </tr>\n",
       "    <tr>\n",
       "      <th>9998</th>\n",
       "      <td>1677</td>\n",
       "      <td>97367</td>\n",
       "      <td>0.4878</td>\n",
       "      <td>False</td>\n",
       "      <td>0</td>\n",
       "      <td>0</td>\n",
       "      <td>1</td>\n",
       "    </tr>\n",
       "    <tr>\n",
       "      <th>9999</th>\n",
       "      <td>1557</td>\n",
       "      <td>24907</td>\n",
       "      <td>0.5867</td>\n",
       "      <td>False</td>\n",
       "      <td>1</td>\n",
       "      <td>0</td>\n",
       "      <td>0</td>\n",
       "    </tr>\n",
       "  </tbody>\n",
       "</table>\n",
       "<p>10000 rows × 7 columns</p>\n",
       "</div>"
      ],
      "text/plain": [
       "      ubicacion  tamanio    rdto  uso_fertilizantes  tipo_cultivo_Erecta.  \\\n",
       "0          1572    33997  0.8679              False                     0   \n",
       "1          1059    80481  0.6079              False                     0   \n",
       "2          1242    95781  0.9220               True                     0   \n",
       "3          1286    98904  0.1078              False                     1   \n",
       "4          1109    69298  0.0916              False                     0   \n",
       "...         ...      ...     ...                ...                   ...   \n",
       "9995       1346    63349  0.0988              False                     1   \n",
       "9996       1242    67465  0.3169              False                     0   \n",
       "9997       1693    36885  0.0580               True                     0   \n",
       "9998       1677    97367  0.4878              False                     0   \n",
       "9999       1557    24907  0.5867              False                     1   \n",
       "\n",
       "      tipo_cultivo_Rastrera.  tipo_cultivo_Semierecta.  \n",
       "0                          0                         1  \n",
       "1                          0                         1  \n",
       "2                          1                         0  \n",
       "3                          0                         0  \n",
       "4                          0                         1  \n",
       "...                      ...                       ...  \n",
       "9995                       0                         0  \n",
       "9996                       0                         1  \n",
       "9997                       1                         0  \n",
       "9998                       0                         1  \n",
       "9999                       0                         0  \n",
       "\n",
       "[10000 rows x 7 columns]"
      ]
     },
     "execution_count": 2,
     "metadata": {},
     "output_type": "execute_result"
    }
   ],
   "source": [
    "data = pd.read_csv('tomates.csv')\n",
    "data_encoded = pd.get_dummies(data, columns=['tipo_cultivo'])\n",
    "data_encoded"
   ]
  },
  {
   "cell_type": "code",
   "execution_count": 3,
   "id": "543ada8d-2eb2-448f-97a7-caf26dae6dd2",
   "metadata": {},
   "outputs": [],
   "source": [
    "X = data_encoded.drop('rdto', axis=1)\n",
    "y = data_encoded['rdto']\n",
    "\n",
    "X_train, X_test, y_train, y_test = train_test_split(X, y, test_size=0.2, random_state=42)"
   ]
  },
  {
   "cell_type": "code",
   "execution_count": 4,
   "id": "a3552353-e89d-4ea9-b317-911feb20d4a2",
   "metadata": {},
   "outputs": [
    {
     "data": {
      "text/plain": [
       "DecisionTreeRegressor()"
      ]
     },
     "execution_count": 4,
     "metadata": {},
     "output_type": "execute_result"
    }
   ],
   "source": [
    "model = DecisionTreeRegressor()\n",
    "model.fit(X_train, y_train)"
   ]
  },
  {
   "cell_type": "code",
   "execution_count": 5,
   "id": "43b0ff49-dbc3-4591-8bc5-0a15f17c2714",
   "metadata": {},
   "outputs": [
    {
     "name": "stdout",
     "output_type": "stream",
     "text": [
      "MSE: 0.16491290627000002\n"
     ]
    }
   ],
   "source": [
    "# Evaluar el rendimiento del modelo en los datos de prueba\n",
    "y_pred = model.predict(X_test)\n",
    "mse = mean_squared_error(y_test, y_pred)\n",
    "print('MSE:', mse)"
   ]
  },
  {
   "cell_type": "code",
   "execution_count": 11,
   "id": "6d0091ea-f632-4fdb-92d1-dd1b814378ce",
   "metadata": {},
   "outputs": [
    {
     "name": "stdout",
     "output_type": "stream",
     "text": [
      "Predicción para nueva finca: [0.3813]\n"
     ]
    }
   ],
   "source": [
    "# Realizar predicciones sobre el rendimiento del cultivo en una finca específica\n",
    "new_data = pd.DataFrame({'tipo_cultivo_Erecta.': [0],'tipo_cultivo_Rastrera.': [1],'tipo_cultivo_Semierecta.': [0], 'ubicacion': [4232], 'tamanio': [8978], 'uso_fertilizantes': ['False']})\n",
    "new_data_encoded = pd.get_dummies(new_data)\n",
    "y_pred_new = model.predict(new_data_encoded)\n",
    "print('Predicción para nueva finca:', y_pred_new)"
   ]
  },
  {
   "cell_type": "code",
   "execution_count": 7,
   "id": "6993683e-9638-4080-917b-696152a4d91b",
   "metadata": {},
   "outputs": [
    {
     "name": "stdout",
     "output_type": "stream",
     "text": [
      "Importancia de características:\n",
      "ubicacion 0.4058971281462914\n",
      "tamanio 0.4902006567819816\n",
      "uso_fertilizantes 0.05381562230983664\n",
      "tipo_cultivo_Erecta. 0.02126619070494918\n",
      "tipo_cultivo_Rastrera. 0.014110094166210587\n",
      "tipo_cultivo_Semierecta. 0.014710307890730573\n"
     ]
    }
   ],
   "source": [
    "# Identificar los principales factores que influyen en el rendimiento del cultivo\n",
    "importances = model.feature_importances_\n",
    "print('Importancia de características:')\n",
    "for i in range(len(X.columns)):\n",
    "    print(X.columns[i], importances[i])"
   ]
  },
  {
   "cell_type": "code",
   "execution_count": 10,
   "id": "028bc935-ee28-45cd-a8b6-3b8ea19fbdbd",
   "metadata": {},
   "outputs": [
    {
     "data": {
      "image/png": "[encoded data removed]",
      "text/plain": [
       "<Figure size 432x288 with 1 Axes>"
      ]
     },
     "metadata": {
      "needs_background": "light"
     },
     "output_type": "display_data"
    }
   ],
   "source": [
    "# Crear una lista de tuplas que contengan las características y sus respectivas importancias\n",
    "feature_importances = [(X.columns[i], importances[i]) for i in range(len(X.columns))]\n",
    "\n",
    "# Ordenar la lista de mayor a menor según la importancia\n",
    "feature_importances.sort(key=lambda x: x[1], reverse=True)\n",
    "\n",
    "# Crear dos listas separadas con las características y sus respectivas importancias ordenadas\n",
    "features = [x[0] for x in feature_importances]\n",
    "importances = [x[1] for x in feature_importances]\n",
    "\n",
    "# Crear el gráfico de barras\n",
    "plt.bar(features, importances)\n",
    "plt.xticks(rotation=25)\n",
    "plt.xlabel('Características')\n",
    "plt.ylabel('Importancia')\n",
    "plt.title('Importancia de características en el rendimiento del cultivo')\n",
    "plt.show()"
   ]
  },
  {
   "cell_type": "code",
   "execution_count": 85,
   "id": "251309fa-ecfd-4132-b52b-daca9efdf95e",
   "metadata": {},
   "outputs": [
    {
     "name": "stdout",
     "output_type": "stream",
     "text": [
      "R^2: -1.05 (+/- 0.22)\n"
     ]
    }
   ],
   "source": [
    "#Aplicar validación cruzada para evaluar el rendimiento del modelo\n",
    "from sklearn.model_selection import cross_val_score\n",
    "from sklearn.tree import DecisionTreeRegressor\n",
    "\n",
    "# Se utiliza validación cruzada de k=10\n",
    "scores = cross_val_score(model, X_train, y_train, cv=10, scoring='r2')\n",
    "\n",
    "print(\"R^2: %0.2f (+/- %0.2f)\" % (scores.mean(), scores.std() * 2))"
   ]
  },
  {
   "cell_type": "code",
   "execution_count": 86,
   "id": "53eec3ac-dc9f-41a5-9987-cfc3d7ae3c3c",
   "metadata": {},
   "outputs": [],
   "source": [
    "#Utilizar técnicas de selección de características \n",
    "from sklearn.feature_selection import SelectFromModel\n",
    "\n",
    "# Se crea un modelo de árbol de decisión para seleccionar características\n",
    "selector = SelectFromModel(DecisionTreeRegressor(), threshold='mean')\n",
    "\n",
    "selector.fit(X_train, y_train)\n",
    "\n",
    "# Se obtienen las características seleccionadas\n",
    "selected_features = X_train.columns[selector.get_support()]\n",
    "\n",
    "X_train_selected = selector.transform(X_train)\n",
    "X_test_selected = selector.transform(X_test)"
   ]
  },
  {
   "cell_type": "code",
   "execution_count": 87,
   "id": "d194fa18-0d73-4aca-8b8d-bdd7914d3888",
   "metadata": {},
   "outputs": [
    {
     "name": "stdout",
     "output_type": "stream",
     "text": [
      "R^2 (con características seleccionadas): -1.08 (+/- 0.18)\n",
      "R^2 (con características seleccionadas, en conjunto de prueba): -1.11\n"
     ]
    }
   ],
   "source": [
    "#Entrenar y evaluar el modelo con características seleccionadas:\n",
    "tree_model_selected = DecisionTreeRegressor()\n",
    "\n",
    "tree_model_selected.fit(X_train_selected, y_train)\n",
    "\n",
    "# Se utiliza validación cruzada de k=10 con características seleccionadas\n",
    "scores_selected = cross_val_score(tree_model_selected, X_train_selected, y_train, cv=10, scoring='r2')\n",
    "\n",
    "print(\"R^2 (con características seleccionadas): %0.2f (+/- %0.2f)\" % (scores_selected.mean(), scores_selected.std() * 2))\n",
    "\n",
    "# Se evalúa el modelo en el conjunto de prueba\n",
    "y_pred_selected = tree_model_selected.predict(X_test_selected)\n",
    "\n",
    "print(\"R^2 (con características seleccionadas, en conjunto de prueba): %0.2f\" % tree_model_selected.score(X_test_selected, y_test))\n"
   ]
  },
  {
   "cell_type": "code",
   "execution_count": 88,
   "id": "e55299db-ff7c-4187-8307-e4996200020a",
   "metadata": {},
   "outputs": [
    {
     "name": "stdout",
     "output_type": "stream",
     "text": [
      "R^2 (con bosque aleatorio): -0.15 (+/- 0.06)\n",
      "R^2 (con bosque aleatorio, en conjunto de prueba): -0.11\n"
     ]
    }
   ],
   "source": [
    "#Aplicar técnicas de ensamble, como el bosque aleatorio:\n",
    "from sklearn.ensemble import RandomForestRegressor\n",
    "\n",
    "rf_model = RandomForestRegressor(n_estimators=100, random_state=42)\n",
    "\n",
    "# Se utiliza validación cruzada de k=10 con bosque aleatorio\n",
    "scores_rf = cross_val_score(rf_model, X_train, y_train, cv=10, scoring='r2')\n",
    "\n",
    "print(\"R^2 (con bosque aleatorio): %0.2f (+/- %0.2f)\" % (scores_rf.mean(), scores_rf.std() * 2))\n",
    "\n",
    "# Se entrena el modelo con el random forest\n",
    "rf_model.fit(X_train, y_train)\n",
    "\n",
    "# Se evalúa el modelo en el conjunto de prueba\n",
    "y_pred_rf = rf_model.predict(X_test)\n",
    "print(\"R^2 (con bosque aleatorio, en conjunto de prueba): %0.2f\" %rf_model.score(X_test, y_test))"
   ]
  },
  {
   "cell_type": "code",
   "execution_count": null,
   "id": "a464a19e-4c0c-41ea-8b71-9d7bfb3dee53",
   "metadata": {},
   "outputs": [],
   "source": []
  }
 ],
 "metadata": {
  "kernelspec": {
   "display_name": "Python 3",
   "language": "python",
   "name": "python3"
  },
  "language_info": {
   "codemirror_mode": {
    "name": "ipython",
    "version": 3
   },
   "file_extension": ".py",
   "mimetype": "text/x-python",
   "name": "python",
   "nbconvert_exporter": "python",
   "pygments_lexer": "ipython3",
   "version": "3.8.8"
  }
 },
 "nbformat": 4,
 "nbformat_minor": 5
}
